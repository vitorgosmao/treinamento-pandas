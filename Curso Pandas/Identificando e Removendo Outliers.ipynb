{
 "cells": [
  {
   "cell_type": "markdown",
   "id": "25cb9265",
   "metadata": {},
   "source": [
    "# Relatório de Análise VIII"
   ]
  },
  {
   "cell_type": "markdown",
   "id": "9dd519dd",
   "metadata": {},
   "source": [
    "## Identificando e removendo outliers"
   ]
  },
  {
   "cell_type": "code",
   "execution_count": 7,
   "id": "f4af2f4e",
   "metadata": {},
   "outputs": [],
   "source": [
    "%matplotlib inline\n",
    "import pandas as pd\n",
    "import matplotlib.pyplot as plt\n",
    "plt.rc('figure', figsize = (14,6))"
   ]
  },
  {
   "cell_type": "code",
   "execution_count": 8,
   "id": "2f5d0c58",
   "metadata": {},
   "outputs": [],
   "source": [
    "dados = pd.read_csv('dados/aluguel_residencial.csv', sep = ';')"
   ]
  },
  {
   "cell_type": "code",
   "execution_count": 9,
   "id": "784cf56a",
   "metadata": {},
   "outputs": [
    {
     "data": {
      "text/html": [
       "<div>\n",
       "<style scoped>\n",
       "    .dataframe tbody tr th:only-of-type {\n",
       "        vertical-align: middle;\n",
       "    }\n",
       "\n",
       "    .dataframe tbody tr th {\n",
       "        vertical-align: top;\n",
       "    }\n",
       "\n",
       "    .dataframe thead th {\n",
       "        text-align: right;\n",
       "    }\n",
       "</style>\n",
       "<table border=\"1\" class=\"dataframe\">\n",
       "  <thead>\n",
       "    <tr style=\"text-align: right;\">\n",
       "      <th></th>\n",
       "      <th>Tipo</th>\n",
       "      <th>Bairro</th>\n",
       "      <th>Quartos</th>\n",
       "      <th>Vagas</th>\n",
       "      <th>Suites</th>\n",
       "      <th>Area</th>\n",
       "      <th>Valor</th>\n",
       "      <th>Condominio</th>\n",
       "      <th>IPTU</th>\n",
       "      <th>Valor m2</th>\n",
       "      <th>Tipo Agregado</th>\n",
       "    </tr>\n",
       "  </thead>\n",
       "  <tbody>\n",
       "    <tr>\n",
       "      <th>0</th>\n",
       "      <td>Quitinete</td>\n",
       "      <td>Copacabana</td>\n",
       "      <td>1</td>\n",
       "      <td>0</td>\n",
       "      <td>0</td>\n",
       "      <td>40</td>\n",
       "      <td>1700.0</td>\n",
       "      <td>500.0</td>\n",
       "      <td>60.0</td>\n",
       "      <td>42.50</td>\n",
       "      <td>Apartamento</td>\n",
       "    </tr>\n",
       "    <tr>\n",
       "      <th>1</th>\n",
       "      <td>Casa</td>\n",
       "      <td>Jardim Botânico</td>\n",
       "      <td>2</td>\n",
       "      <td>0</td>\n",
       "      <td>1</td>\n",
       "      <td>100</td>\n",
       "      <td>7000.0</td>\n",
       "      <td>0.0</td>\n",
       "      <td>0.0</td>\n",
       "      <td>70.00</td>\n",
       "      <td>Casa</td>\n",
       "    </tr>\n",
       "    <tr>\n",
       "      <th>2</th>\n",
       "      <td>Apartamento</td>\n",
       "      <td>Centro</td>\n",
       "      <td>1</td>\n",
       "      <td>0</td>\n",
       "      <td>0</td>\n",
       "      <td>15</td>\n",
       "      <td>800.0</td>\n",
       "      <td>390.0</td>\n",
       "      <td>20.0</td>\n",
       "      <td>53.33</td>\n",
       "      <td>Apartamento</td>\n",
       "    </tr>\n",
       "    <tr>\n",
       "      <th>3</th>\n",
       "      <td>Apartamento</td>\n",
       "      <td>Higienópolis</td>\n",
       "      <td>1</td>\n",
       "      <td>0</td>\n",
       "      <td>0</td>\n",
       "      <td>48</td>\n",
       "      <td>800.0</td>\n",
       "      <td>230.0</td>\n",
       "      <td>0.0</td>\n",
       "      <td>16.67</td>\n",
       "      <td>Apartamento</td>\n",
       "    </tr>\n",
       "    <tr>\n",
       "      <th>4</th>\n",
       "      <td>Apartamento</td>\n",
       "      <td>Cachambi</td>\n",
       "      <td>2</td>\n",
       "      <td>0</td>\n",
       "      <td>0</td>\n",
       "      <td>50</td>\n",
       "      <td>1300.0</td>\n",
       "      <td>301.0</td>\n",
       "      <td>17.0</td>\n",
       "      <td>26.00</td>\n",
       "      <td>Apartamento</td>\n",
       "    </tr>\n",
       "    <tr>\n",
       "      <th>5</th>\n",
       "      <td>Casa de Condomínio</td>\n",
       "      <td>Barra da Tijuca</td>\n",
       "      <td>5</td>\n",
       "      <td>4</td>\n",
       "      <td>5</td>\n",
       "      <td>750</td>\n",
       "      <td>22000.0</td>\n",
       "      <td>0.0</td>\n",
       "      <td>0.0</td>\n",
       "      <td>29.33</td>\n",
       "      <td>Casa</td>\n",
       "    </tr>\n",
       "    <tr>\n",
       "      <th>6</th>\n",
       "      <td>Casa de Condomínio</td>\n",
       "      <td>Ramos</td>\n",
       "      <td>2</td>\n",
       "      <td>2</td>\n",
       "      <td>0</td>\n",
       "      <td>65</td>\n",
       "      <td>1000.0</td>\n",
       "      <td>0.0</td>\n",
       "      <td>0.0</td>\n",
       "      <td>15.38</td>\n",
       "      <td>Casa</td>\n",
       "    </tr>\n",
       "    <tr>\n",
       "      <th>7</th>\n",
       "      <td>Apartamento</td>\n",
       "      <td>Grajaú</td>\n",
       "      <td>2</td>\n",
       "      <td>1</td>\n",
       "      <td>0</td>\n",
       "      <td>70</td>\n",
       "      <td>1500.0</td>\n",
       "      <td>642.0</td>\n",
       "      <td>74.0</td>\n",
       "      <td>21.43</td>\n",
       "      <td>Apartamento</td>\n",
       "    </tr>\n",
       "    <tr>\n",
       "      <th>8</th>\n",
       "      <td>Apartamento</td>\n",
       "      <td>Lins de Vasconcelos</td>\n",
       "      <td>3</td>\n",
       "      <td>1</td>\n",
       "      <td>1</td>\n",
       "      <td>90</td>\n",
       "      <td>1500.0</td>\n",
       "      <td>455.0</td>\n",
       "      <td>14.0</td>\n",
       "      <td>16.67</td>\n",
       "      <td>Apartamento</td>\n",
       "    </tr>\n",
       "    <tr>\n",
       "      <th>9</th>\n",
       "      <td>Apartamento</td>\n",
       "      <td>Copacabana</td>\n",
       "      <td>1</td>\n",
       "      <td>0</td>\n",
       "      <td>1</td>\n",
       "      <td>40</td>\n",
       "      <td>2000.0</td>\n",
       "      <td>561.0</td>\n",
       "      <td>50.0</td>\n",
       "      <td>50.00</td>\n",
       "      <td>Apartamento</td>\n",
       "    </tr>\n",
       "  </tbody>\n",
       "</table>\n",
       "</div>"
      ],
      "text/plain": [
       "                 Tipo               Bairro  Quartos  Vagas  Suites  Area  \\\n",
       "0           Quitinete           Copacabana        1      0       0    40   \n",
       "1                Casa      Jardim Botânico        2      0       1   100   \n",
       "2         Apartamento               Centro        1      0       0    15   \n",
       "3         Apartamento         Higienópolis        1      0       0    48   \n",
       "4         Apartamento             Cachambi        2      0       0    50   \n",
       "5  Casa de Condomínio      Barra da Tijuca        5      4       5   750   \n",
       "6  Casa de Condomínio                Ramos        2      2       0    65   \n",
       "7         Apartamento               Grajaú        2      1       0    70   \n",
       "8         Apartamento  Lins de Vasconcelos        3      1       1    90   \n",
       "9         Apartamento           Copacabana        1      0       1    40   \n",
       "\n",
       "     Valor  Condominio  IPTU  Valor m2 Tipo Agregado  \n",
       "0   1700.0       500.0  60.0     42.50   Apartamento  \n",
       "1   7000.0         0.0   0.0     70.00          Casa  \n",
       "2    800.0       390.0  20.0     53.33   Apartamento  \n",
       "3    800.0       230.0   0.0     16.67   Apartamento  \n",
       "4   1300.0       301.0  17.0     26.00   Apartamento  \n",
       "5  22000.0         0.0   0.0     29.33          Casa  \n",
       "6   1000.0         0.0   0.0     15.38          Casa  \n",
       "7   1500.0       642.0  74.0     21.43   Apartamento  \n",
       "8   1500.0       455.0  14.0     16.67   Apartamento  \n",
       "9   2000.0       561.0  50.0     50.00   Apartamento  "
      ]
     },
     "execution_count": 9,
     "metadata": {},
     "output_type": "execute_result"
    }
   ],
   "source": [
    "dados.head(10)"
   ]
  },
  {
   "cell_type": "code",
   "execution_count": 10,
   "id": "8c7bdba1",
   "metadata": {},
   "outputs": [
    {
     "data": {
      "text/plain": [
       "<AxesSubplot:>"
      ]
     },
     "execution_count": 10,
     "metadata": {},
     "output_type": "execute_result"
    },
    {
     "data": {
      "image/png": "[encoded data removed]",
      "text/plain": [
       "<Figure size 1008x432 with 1 Axes>"
      ]
     },
     "metadata": {
      "needs_background": "light"
     },
     "output_type": "display_data"
    }
   ],
   "source": [
    "dados.boxplot(['Valor'])"
   ]
  },
  {
   "cell_type": "code",
   "execution_count": 12,
   "id": "22a76516",
   "metadata": {},
   "outputs": [
    {
     "data": {
      "text/html": [
       "<div>\n",
       "<style scoped>\n",
       "    .dataframe tbody tr th:only-of-type {\n",
       "        vertical-align: middle;\n",
       "    }\n",
       "\n",
       "    .dataframe tbody tr th {\n",
       "        vertical-align: top;\n",
       "    }\n",
       "\n",
       "    .dataframe thead th {\n",
       "        text-align: right;\n",
       "    }\n",
       "</style>\n",
       "<table border=\"1\" class=\"dataframe\">\n",
       "  <thead>\n",
       "    <tr style=\"text-align: right;\">\n",
       "      <th></th>\n",
       "      <th>Tipo</th>\n",
       "      <th>Bairro</th>\n",
       "      <th>Quartos</th>\n",
       "      <th>Vagas</th>\n",
       "      <th>Suites</th>\n",
       "      <th>Area</th>\n",
       "      <th>Valor</th>\n",
       "      <th>Condominio</th>\n",
       "      <th>IPTU</th>\n",
       "      <th>Valor m2</th>\n",
       "      <th>Tipo Agregado</th>\n",
       "    </tr>\n",
       "  </thead>\n",
       "  <tbody>\n",
       "    <tr>\n",
       "      <th>7629</th>\n",
       "      <td>Apartamento</td>\n",
       "      <td>Barra da Tijuca</td>\n",
       "      <td>1</td>\n",
       "      <td>1</td>\n",
       "      <td>0</td>\n",
       "      <td>65</td>\n",
       "      <td>600000.0</td>\n",
       "      <td>980.0</td>\n",
       "      <td>120.0</td>\n",
       "      <td>9230.77</td>\n",
       "      <td>Apartamento</td>\n",
       "    </tr>\n",
       "    <tr>\n",
       "      <th>10636</th>\n",
       "      <td>Casa de Condomínio</td>\n",
       "      <td>Freguesia (Jacarepaguá)</td>\n",
       "      <td>4</td>\n",
       "      <td>2</td>\n",
       "      <td>3</td>\n",
       "      <td>163</td>\n",
       "      <td>800000.0</td>\n",
       "      <td>900.0</td>\n",
       "      <td>0.0</td>\n",
       "      <td>4907.98</td>\n",
       "      <td>Casa</td>\n",
       "    </tr>\n",
       "    <tr>\n",
       "      <th>12661</th>\n",
       "      <td>Apartamento</td>\n",
       "      <td>Freguesia (Jacarepaguá)</td>\n",
       "      <td>2</td>\n",
       "      <td>2</td>\n",
       "      <td>1</td>\n",
       "      <td>150</td>\n",
       "      <td>550000.0</td>\n",
       "      <td>850.0</td>\n",
       "      <td>150.0</td>\n",
       "      <td>3666.67</td>\n",
       "      <td>Apartamento</td>\n",
       "    </tr>\n",
       "    <tr>\n",
       "      <th>13846</th>\n",
       "      <td>Apartamento</td>\n",
       "      <td>Recreio dos Bandeirantes</td>\n",
       "      <td>3</td>\n",
       "      <td>2</td>\n",
       "      <td>1</td>\n",
       "      <td>167</td>\n",
       "      <td>1250000.0</td>\n",
       "      <td>1186.0</td>\n",
       "      <td>320.0</td>\n",
       "      <td>7485.03</td>\n",
       "      <td>Apartamento</td>\n",
       "    </tr>\n",
       "    <tr>\n",
       "      <th>15520</th>\n",
       "      <td>Apartamento</td>\n",
       "      <td>Botafogo</td>\n",
       "      <td>4</td>\n",
       "      <td>1</td>\n",
       "      <td>1</td>\n",
       "      <td>300</td>\n",
       "      <td>4500000.0</td>\n",
       "      <td>1100.0</td>\n",
       "      <td>0.0</td>\n",
       "      <td>15000.00</td>\n",
       "      <td>Apartamento</td>\n",
       "    </tr>\n",
       "  </tbody>\n",
       "</table>\n",
       "</div>"
      ],
      "text/plain": [
       "                     Tipo                    Bairro  Quartos  Vagas  Suites  \\\n",
       "7629          Apartamento           Barra da Tijuca        1      1       0   \n",
       "10636  Casa de Condomínio   Freguesia (Jacarepaguá)        4      2       3   \n",
       "12661         Apartamento   Freguesia (Jacarepaguá)        2      2       1   \n",
       "13846         Apartamento  Recreio dos Bandeirantes        3      2       1   \n",
       "15520         Apartamento                  Botafogo        4      1       1   \n",
       "\n",
       "       Area      Valor  Condominio   IPTU  Valor m2 Tipo Agregado  \n",
       "7629     65   600000.0       980.0  120.0   9230.77   Apartamento  \n",
       "10636   163   800000.0       900.0    0.0   4907.98          Casa  \n",
       "12661   150   550000.0       850.0  150.0   3666.67   Apartamento  \n",
       "13846   167  1250000.0      1186.0  320.0   7485.03   Apartamento  \n",
       "15520   300  4500000.0      1100.0    0.0  15000.00   Apartamento  "
      ]
     },
     "execution_count": 12,
     "metadata": {},
     "output_type": "execute_result"
    }
   ],
   "source": [
    "dados[dados['Valor'] >= 500000 ]"
   ]
  },
  {
   "cell_type": "code",
   "execution_count": 15,
   "id": "85106150",
   "metadata": {},
   "outputs": [],
   "source": [
    "valor = dados['Valor']"
   ]
  },
  {
   "attachments": {},
   "cell_type": "markdown",
   "id": "3173ce0a",
   "metadata": {},
   "source": [
    "<img src=\"compressed_box-plot.png\" width =70% >"
   ]
  },
  {
   "cell_type": "code",
   "execution_count": 20,
   "id": "16853dbc",
   "metadata": {},
   "outputs": [],
   "source": [
    "q1 = valor.quantile(.25)\n",
    "q3 = valor.quantile(.75)\n",
    "iiq = q3 - q1 \n",
    "limite_inferior = q1 - 1.5 * iiq\n",
    "limite_superior = q3 + 1.5 * iiq"
   ]
  },
  {
   "cell_type": "code",
   "execution_count": 24,
   "id": "12b0ade6",
   "metadata": {},
   "outputs": [],
   "source": [
    "selecao = (valor >= limite_inferior) & (valor <= limite_superior)\n",
    "dados_new = dados[selecao]"
   ]
  },
  {
   "cell_type": "code",
   "execution_count": 25,
   "id": "a4be4371",
   "metadata": {},
   "outputs": [
    {
     "data": {
      "text/plain": [
       "<AxesSubplot:>"
      ]
     },
     "execution_count": 25,
     "metadata": {},
     "output_type": "execute_result"
    },
    {
     "data": {
      "image/png": "[encoded data removed]",
      "text/plain": [
       "<Figure size 1008x432 with 1 Axes>"
      ]
     },
     "metadata": {
      "needs_background": "light"
     },
     "output_type": "display_data"
    }
   ],
   "source": [
    "dados_new.boxplot(['Valor'])"
   ]
  },
  {
   "cell_type": "code",
   "execution_count": 28,
   "id": "4eb88dff",
   "metadata": {},
   "outputs": [
    {
     "data": {
      "text/plain": [
       "array([[<AxesSubplot:title={'center':'Valor'}>]], dtype=object)"
      ]
     },
     "execution_count": 28,
     "metadata": {},
     "output_type": "execute_result"
    },
    {
     "data": {
      "image/png": "[encoded data removed]",
      "text/plain": [
       "<Figure size 1008x432 with 1 Axes>"
      ]
     },
     "metadata": {
      "needs_background": "light"
     },
     "output_type": "display_data"
    },
    {
     "data": {
      "image/png": "[encoded data removed]",
      "text/plain": [
       "<Figure size 1008x432 with 1 Axes>"
      ]
     },
     "metadata": {
      "needs_background": "light"
     },
     "output_type": "display_data"
    }
   ],
   "source": [
    "dados.hist(['Valor'])\n",
    "dados_new.hist(['Valor'])"
   ]
  },
  {
   "cell_type": "code",
   "execution_count": null,
   "id": "5e7c0b26",
   "metadata": {},
   "outputs": [],
   "source": []
  }
 ],
 "metadata": {
  "kernelspec": {
   "display_name": "Python 3 (ipykernel)",
   "language": "python",
   "name": "python3"
  },
  "language_info": {
   "codemirror_mode": {
    "name": "ipython",
    "version": 3
   },
   "file_extension": ".py",
   "mimetype": "text/x-python",
   "name": "python",
   "nbconvert_exporter": "python",
   "pygments_lexer": "ipython3",
   "version": "3.9.7"
  }
 },
 "nbformat": 4,
 "nbformat_minor": 5
}
